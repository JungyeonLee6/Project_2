{
 "cells": [
  {
   "cell_type": "code",
   "execution_count": 1,
   "metadata": {
    "colab": {
     "base_uri": "https://localhost:8080/",
     "height": 34
    },
    "colab_type": "code",
    "executionInfo": {
     "elapsed": 2149,
     "status": "ok",
     "timestamp": 1538577689307,
     "user": {
      "displayName": "Jungyeon Lee",
      "photoUrl": "",
      "userId": "13381359153031633910"
     },
     "user_tz": -540
    },
    "id": "mDYXdQxmZsCT",
    "outputId": "a8c7750b-c3de-4988-f17a-4ba91e6507fd"
   },
   "outputs": [
    {
     "name": "stderr",
     "output_type": "stream",
     "text": [
      "C:\\Users\\LG\\Anaconda3\\lib\\site-packages\\h5py\\__init__.py:36: FutureWarning: Conversion of the second argument of issubdtype from `float` to `np.floating` is deprecated. In future, it will be treated as `np.float64 == np.dtype(float).type`.\n",
      "  from ._conv import register_converters as _register_converters\n",
      "Using TensorFlow backend.\n"
     ]
    }
   ],
   "source": [
    "import pandas as pd\n",
    "import numpy as np\n",
    "from keras.preprocessing.image import load_img, ImageDataGenerator\n",
    "import os\n",
    "import scipy"
   ]
  },
  {
   "cell_type": "markdown",
   "metadata": {
    "colab_type": "text",
    "id": "ADjIgumhZuwh"
   },
   "source": [
    "## **Train / Validation / Test**"
   ]
  },
  {
   "cell_type": "code",
   "execution_count": 2,
   "metadata": {
    "colab": {
     "base_uri": "https://localhost:8080/",
     "height": 70
    },
    "colab_type": "code",
    "executionInfo": {
     "elapsed": 43568,
     "status": "ok",
     "timestamp": 1538577732911,
     "user": {
      "displayName": "Jungyeon Lee",
      "photoUrl": "",
      "userId": "13381359153031633910"
     },
     "user_tz": -540
    },
    "id": "VHsHYIszZsqt",
    "outputId": "ebccd57e-f605-4c7c-8aae-d3d0437dffdd"
   },
   "outputs": [
    {
     "name": "stdout",
     "output_type": "stream",
     "text": [
      "Found 4794 images belonging to 8 classes.\n",
      "Found 1600 images belonging to 8 classes.\n",
      "Found 1600 images belonging to 8 classes.\n"
     ]
    }
   ],
   "source": [
    "train_datagen = ImageDataGenerator(rescale = 1./255)\n",
    "train_generator = train_datagen.flow_from_directory('last_img_data/train/', target_size = (216,556), batch_size=9, class_mode='categorical')\n",
    "\n",
    "validation_datagen = ImageDataGenerator(rescale = 1./255)\n",
    "validation_generator = validation_datagen.flow_from_directory('last_img_data/validation/', target_size = (216,556), batch_size=4, class_mode='categorical')\n",
    "\n",
    "test_datagen = ImageDataGenerator(rescale = 1./255)\n",
    "test_generator = test_datagen.flow_from_directory('last_img_data/test/', target_size = (216,556), batch_size=4, class_mode='categorical')"
   ]
  },
  {
   "cell_type": "code",
   "execution_count": 3,
   "metadata": {
    "colab": {},
    "colab_type": "code",
    "id": "pVkfL8olZthz"
   },
   "outputs": [],
   "source": [
    "from keras import layers\n",
    "from keras import models \n",
    "\n",
    "#model.add(layers.ZeroPadding2D(padding=(1, 1)))\n",
    "#model.add(layers.Conv2D(32, (3, 3), activation='relu', input_shape=(28, 28, 1)))\n",
    "#model.add(layers.MaxPooling2D((2, 2)))\n",
    "#model.add(layers.BatchNormalization(momentum=0.99, epsilon=0.001)\n",
    "#model.add(layers.Dropout(0.5))\n",
    "#model.add(layers.Flatten())\n",
    "#model.add(layers.Dense(64, activation='softmax'))\n",
    "#model.compile(optimizer='rmsprop', loss='mse', metrics=['mae'])"
   ]
  },
  {
   "cell_type": "code",
   "execution_count": 51,
   "metadata": {
    "colab": {},
    "colab_type": "code",
    "id": "zK2SFc_gZtul"
   },
   "outputs": [],
   "source": [
    "# 음악을 시간 순으로 인식하니 1D convolution model으로 시도\n",
    "def build_model_2():\n",
    "    model = models.Sequential()\n",
    "    ##\n",
    "    #model.add(layers.Input((556,216,3)))\n",
    "    #model.add(layers.ZeroPadding2D(padding=((2, 2), (0, 0))))\n",
    "    model.add(layers.Conv2D(64, (72, 3),strides=(16, 1), activation='relu', input_shape=(216, 556, 3)))\n",
    "    model.add(layers.MaxPooling2D((2, 2)))\n",
    "    ##\n",
    "    model.add(layers.Conv2D(128, (5, 3), activation='relu'))\n",
    "    ##\n",
    "    model.add(layers.ZeroPadding2D(padding=((0, 0), (1, 1))))#height/wide\n",
    "    model.add(layers.Conv2D(128, (1, 5), activation='relu'))\n",
    "    model.add(layers.MaxPooling2D((1, 3)))\n",
    "    ##\n",
    "    model.add(layers.ZeroPadding2D(padding=((0, 0), (1, 2))))\n",
    "    model.add(layers.Conv2D(512, (1, 5), activation='relu'))\n",
    "    model.add(layers.MaxPooling2D((1, 3)))\n",
    "    ##\n",
    "    #model.add(layers.Flatten())\n",
    "    model.add(layers.Conv1D(3000, 3, strides=1, padding='valid',activation='relu')\n",
    "    model.add(layers.Dense(1000, activation='relu'))\n",
    "    model.add(layers.Dense(1000, activation='relu'))\n",
    "    model.add(layers.Dense(500, activation='relu'))\n",
    "    model.add(layers.Dense(8, activation='softmax'))\n",
    "    model.compile(optimizer='adam',\n",
    "              loss='categorical_crossentropy',\n",
    "              metrics=['accuracy'])\n",
    "    return model"
   ]
  },
  {
   "cell_type": "code",
   "execution_count": 52,
   "metadata": {
    "colab": {},
    "colab_type": "code",
    "id": "bjvWb_QUZt8J"
   },
   "outputs": [],
   "source": [
    "model=build_model_2()"
   ]
  },
  {
   "cell_type": "code",
   "execution_count": 53,
   "metadata": {
    "colab": {
     "base_uri": "https://localhost:8080/",
     "height": 1161
    },
    "colab_type": "code",
    "executionInfo": {
     "elapsed": 831,
     "status": "ok",
     "timestamp": 1538577739375,
     "user": {
      "displayName": "Jungyeon Lee",
      "photoUrl": "",
      "userId": "13381359153031633910"
     },
     "user_tz": -540
    },
    "id": "CmBeP28kZuHn",
    "outputId": "275b63c2-909e-49b1-e795-94cfc5da9605"
   },
   "outputs": [
    {
     "name": "stdout",
     "output_type": "stream",
     "text": [
      "_________________________________________________________________\n",
      "Layer (type)                 Output Shape              Param #   \n",
      "=================================================================\n",
      "conv2d_30 (Conv2D)           (None, 10, 554, 64)       41536     \n",
      "_________________________________________________________________\n",
      "max_pooling2d_22 (MaxPooling (None, 5, 277, 64)        0         \n",
      "_________________________________________________________________\n",
      "conv2d_31 (Conv2D)           (None, 1, 275, 128)       123008    \n",
      "_________________________________________________________________\n",
      "zero_padding2d_16 (ZeroPaddi (None, 1, 277, 128)       0         \n",
      "_________________________________________________________________\n",
      "conv2d_32 (Conv2D)           (None, 1, 273, 128)       82048     \n",
      "_________________________________________________________________\n",
      "max_pooling2d_23 (MaxPooling (None, 1, 91, 128)        0         \n",
      "_________________________________________________________________\n",
      "zero_padding2d_17 (ZeroPaddi (None, 1, 94, 128)        0         \n",
      "_________________________________________________________________\n",
      "conv2d_33 (Conv2D)           (None, 1, 90, 512)        328192    \n",
      "_________________________________________________________________\n",
      "max_pooling2d_24 (MaxPooling (None, 1, 30, 512)        0         \n",
      "_________________________________________________________________\n",
      "flatten_8 (Flatten)          (None, 15360)             0         \n",
      "_________________________________________________________________\n",
      "dense_44 (Dense)             (None, 3000)              46083000  \n",
      "_________________________________________________________________\n",
      "dense_45 (Dense)             (None, 1000)              3001000   \n",
      "_________________________________________________________________\n",
      "dense_46 (Dense)             (None, 1000)              1001000   \n",
      "_________________________________________________________________\n",
      "dense_47 (Dense)             (None, 500)               500500    \n",
      "_________________________________________________________________\n",
      "dense_48 (Dense)             (None, 8)                 4008      \n",
      "=================================================================\n",
      "Total params: 51,164,292\n",
      "Trainable params: 51,164,292\n",
      "Non-trainable params: 0\n",
      "_________________________________________________________________\n"
     ]
    }
   ],
   "source": [
    "model.summary()"
   ]
  },
  {
   "cell_type": "code",
   "execution_count": 54,
   "metadata": {
    "colab": {
     "base_uri": "https://localhost:8080/",
     "height": 52
    },
    "colab_type": "code",
    "id": "C3E8AZkZaaeu",
    "outputId": "10bb7acd-b4e7-4650-a9bf-2b0c2ea8d8ec",
    "scrolled": true
   },
   "outputs": [
    {
     "name": "stdout",
     "output_type": "stream",
     "text": [
      "Epoch 1/30\n",
      "1024/1024 [==============================] - 2850s 3s/step - loss: 2.0806 - acc: 0.1242 - val_loss: 2.0795 - val_acc: 0.1250\n",
      "Epoch 2/30\n",
      "1024/1024 [==============================] - 2582s 3s/step - loss: 2.0799 - acc: 0.1204 - val_loss: 2.0795 - val_acc: 0.1250\n",
      "Epoch 3/30\n",
      "1024/1024 [==============================] - 2494s 2s/step - loss: 2.0798 - acc: 0.1143 - val_loss: 2.0795 - val_acc: 0.1250\n",
      "Epoch 4/30\n",
      "1024/1024 [==============================] - 2169s 2s/step - loss: 2.0798 - acc: 0.1144 - val_loss: 2.0795 - val_acc: 0.1250\n",
      "Epoch 5/30\n",
      "1024/1024 [==============================] - 2079s 2s/step - loss: 2.0798 - acc: 0.1192 - val_loss: 2.0795 - val_acc: 0.1250\n",
      "Epoch 6/30\n",
      "1024/1024 [==============================] - 2054s 2s/step - loss: 2.0799 - acc: 0.1136 - val_loss: 2.0795 - val_acc: 0.1250\n"
     ]
    }
   ],
   "source": [
    "import keras.backend.tensorflow_backend as K\n",
    "from keras.callbacks import EarlyStopping, ModelCheckpoint, ReduceLROnPlateau\n",
    "\n",
    "history = model.fit_generator(train_generator, steps_per_epoch=1024, epochs=30, callbacks = [EarlyStopping(patience=5)], validation_data=validation_generator, validation_steps=512)"
   ]
  },
  {
   "cell_type": "code",
   "execution_count": 55,
   "metadata": {
    "colab": {},
    "colab_type": "code",
    "id": "QqBO0g_TVu-b"
   },
   "outputs": [],
   "source": [
    "model.save_weights('model_weights_2.h5')"
   ]
  },
  {
   "cell_type": "code",
   "execution_count": 56,
   "metadata": {
    "colab": {},
    "colab_type": "code",
    "id": "YwV_b4u2VvQX"
   },
   "outputs": [],
   "source": [
    "scores = model.evaluate_generator(test_generator, steps=400)"
   ]
  },
  {
   "cell_type": "code",
   "execution_count": 57,
   "metadata": {
    "colab": {},
    "colab_type": "code",
    "id": "02pbWoyHVva6"
   },
   "outputs": [
    {
     "data": {
      "text/plain": [
       "[2.079478496313095, 0.125]"
      ]
     },
     "execution_count": 57,
     "metadata": {},
     "output_type": "execute_result"
    }
   ],
   "source": [
    "scores"
   ]
  },
  {
   "cell_type": "code",
   "execution_count": 78,
   "metadata": {
    "colab": {},
    "colab_type": "code",
    "id": "UdHeq9IpVvJV"
   },
   "outputs": [
    {
     "data": {
      "text/plain": [
       "Text(0.5,0.98,'Loss and Accuracy')"
      ]
     },
     "execution_count": 78,
     "metadata": {},
     "output_type": "execute_result"
    },
    {
     "data": {
      "image/png": "[encoded data removed]",
      "text/plain": [
       "<matplotlib.figure.Figure at 0x1de8875a198>"
      ]
     },
     "metadata": {},
     "output_type": "display_data"
    }
   ],
   "source": [
    "import matplotlib.pyplot as plt\n",
    "plt.style.use('seaborn-white')\n",
    "\n",
    "fig, (ax_loss, ax_acc) = plt.subplots(1, 2, figsize=(12,4))\n",
    "ax_loss.plot(history.epoch, history.history[\"loss\"], label=\"Train loss\")\n",
    "ax_loss.plot(history.epoch, history.history[\"val_loss\"], label=\"Validation loss\")\n",
    "\n",
    "ax_acc.plot(history.epoch, history.history[\"acc\"], label=\"Train accuracy\")\n",
    "ax_acc.plot(history.epoch, history.history[\"val_acc\"], label=\"Validation accuracy\")\n",
    "\n",
    "plt.suptitle(\"Loss and Accuracy\")"
   ]
  },
  {
   "cell_type": "code",
   "execution_count": 0,
   "metadata": {
    "colab": {},
    "colab_type": "code",
    "id": "IhvUnsKIVuww"
   },
   "outputs": [],
   "source": []
  },
  {
   "cell_type": "code",
   "execution_count": 0,
   "metadata": {
    "colab": {},
    "colab_type": "code",
    "id": "nVbBkOWUaaaM"
   },
   "outputs": [],
   "source": []
  }
 ],
 "metadata": {
  "accelerator": "GPU",
  "colab": {
   "collapsed_sections": [],
   "name": "project2_ljy.ipynb",
   "provenance": [],
   "version": "0.3.2"
  },
  "kernelspec": {
   "display_name": "Python 3",
   "language": "python",
   "name": "python3"
  },
  "language_info": {
   "codemirror_mode": {
    "name": "ipython",
    "version": 3
   },
   "file_extension": ".py",
   "mimetype": "text/x-python",
   "name": "python",
   "nbconvert_exporter": "python",
   "pygments_lexer": "ipython3",
   "version": "3.6.4"
  }
 },
 "nbformat": 4,
 "nbformat_minor": 1
}
